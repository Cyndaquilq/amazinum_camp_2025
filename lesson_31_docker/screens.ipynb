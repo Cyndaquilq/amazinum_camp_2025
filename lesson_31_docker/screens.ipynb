{
 "cells": [
  {
   "cell_type": "markdown",
   "id": "92a26c9a",
   "metadata": {},
   "source": [
    "![1](screen/123.jpg)"
   ]
  },
  {
   "cell_type": "markdown",
   "id": "46c9f1fa",
   "metadata": {},
   "source": [
    "![2](screen/124.jpg)"
   ]
  },
  {
   "cell_type": "markdown",
   "id": "0896827d",
   "metadata": {},
   "source": [
    "![3](screen/125.jpg)"
   ]
  },
  {
   "cell_type": "markdown",
   "id": "f277ca51",
   "metadata": {},
   "source": []
  }
 ],
 "metadata": {
  "language_info": {
   "name": "python"
  }
 },
 "nbformat": 4,
 "nbformat_minor": 5
}
