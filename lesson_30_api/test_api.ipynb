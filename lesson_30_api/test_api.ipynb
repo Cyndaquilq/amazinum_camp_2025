{
 "cells": [
  {
   "cell_type": "code",
   "execution_count": null,
   "id": "489a9c8c",
   "metadata": {},
   "outputs": [],
   "source": [
    "import numpy as np\n",
    "from PIL import Image\n",
    "import glob\n",
    "\n",
    "image_paths = glob.glob(\"data/*.png\") + glob.glob(\"data/*.jpg\")\n",
    "\n",
    "for i, path in enumerate(image_paths):\n",
    "    img = Image.open(path).convert(\"RGB\").resize((64, 64))\n",
    "    img = np.array(img).astype(np.float32) / 255.0\n",
    "    np.save(f\"test_img_{i}.npy\", img)"
   ]
  },
  {
   "cell_type": "code",
   "execution_count": 19,
   "id": "34c4670e",
   "metadata": {},
   "outputs": [
    {
     "name": "stdout",
     "output_type": "stream",
     "text": [
      "{\"label\":\"happy\",\"confidence\":0.746}\n"
     ]
    },
    {
     "name": "stderr",
     "output_type": "stream",
     "text": [
      "  % Total    % Received % Xferd  Average Speed   Time    Time     Time  Current\n",
      "                                 Dload  Upload   Total   Spent    Left  Speed\n",
      "\n",
      "  0     0    0     0    0     0      0      0 --:--:-- --:--:-- --:--:--     0\n",
      "100 49534  100    36  100 49498    475   638k --:--:-- --:--:-- --:--:--  644k\n"
     ]
    }
   ],
   "source": [
    "!curl -X POST \"http://127.0.0.1:8000/predict\" -F \"file=@test_img_2.npy\"\n"
   ]
  },
  {
   "cell_type": "code",
   "execution_count": null,
   "id": "41926081",
   "metadata": {},
   "outputs": [],
   "source": []
  }
 ],
 "metadata": {
  "kernelspec": {
   "display_name": "Python 3",
   "language": "python",
   "name": "python3"
  },
  "language_info": {
   "codemirror_mode": {
    "name": "ipython",
    "version": 3
   },
   "file_extension": ".py",
   "mimetype": "text/x-python",
   "name": "python",
   "nbconvert_exporter": "python",
   "pygments_lexer": "ipython3",
   "version": "3.12.5"
  }
 },
 "nbformat": 4,
 "nbformat_minor": 5
}
