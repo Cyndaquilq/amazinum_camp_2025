{
 "cells": [
  {
   "cell_type": "code",
   "execution_count": 6,
   "metadata": {},
   "outputs": [],
   "source": [
    "import numpy as np"
   ]
  },
  {
   "cell_type": "code",
   "execution_count": 9,
   "metadata": {},
   "outputs": [],
   "source": [
    "numbers = np.arange(2, 100)\n",
    "\n",
    "# Створюємо масиви для зберігання всіх можливих пар чисел\n",
    "nums = []\n",
    "sums = []\n",
    "prod = []\n",
    "\n"
   ]
  },
  {
   "cell_type": "code",
   "execution_count": 10,
   "metadata": {},
   "outputs": [],
   "source": [
    "for a in numbers:\n",
    "    for b in numbers:\n",
    "        if a <= b:  # Беремо тільки одну перестановку, щоб уникнути дублікатів\n",
    "            nums.append((a, b))\n",
    "            sums.append(a + b)\n",
    "            prod.append(a * b)\n",
    "\n",
    "nums = np.array(nums)\n",
    "sums = np.array(sums)\n",
    "prod = np.array(prod)\n"
   ]
  },
  {
   "cell_type": "markdown",
   "metadata": {},
   "source": [
    "Перша фраза діалогу каже, що не знає пару чисел які складають добуток. Тобто пар є декілька."
   ]
  },
  {
   "cell_type": "markdown",
   "metadata": {},
   "source": [
    "Наприклад: \"3 ** 4, 2**6\""
   ]
  },
  {
   "cell_type": "markdown",
   "metadata": {},
   "source": []
  },
  {
   "cell_type": "code",
   "execution_count": null,
   "metadata": {},
   "outputs": [
    {
     "name": "stdout",
     "output_type": "stream",
     "text": [
      "[   4    6    8 ... 9604 9702 9801]\n",
      "Добудки з багатьма розкладами: 1068\n"
     ]
    }
   ],
   "source": [
    "print(prod)\n",
    "''' Тут пошук добутку із  кількома розпадами'''\n",
    "unique_products, counts = np.unique(prod, return_counts=True)\n",
    "ambiguous_products = unique_products[counts > 1]                        \n",
    "\n",
    "print(f\"Добудки з багатьма розкладами: {len(ambiguous_products)}\")"
   ]
  },
  {
   "cell_type": "code",
   "execution_count": 18,
   "metadata": {},
   "outputs": [
    {
     "name": "stdout",
     "output_type": "stream",
     "text": [
      "[179 178]\n"
     ]
    }
   ],
   "source": [
    "for products in ambiguous_products:\n",
    "    # Знаходимо всі пари з цим добутком\n",
    "    prod_mask = products == prod\n",
    "    possible_pairs = nums[prod_mask]\n",
    "    possible_sums = sums[prod_mask]\n",
    "\n",
    "print(possible_sums)"
   ]
  },
  {
   "cell_type": "markdown",
   "metadata": {},
   "source": [
    "Сумма знає. Для кожної суми перевіряється, чи всі можливі пари з цією сумою мають добутки з неоднозначним розкладом."
   ]
  },
  {
   "cell_type": "markdown",
   "metadata": {},
   "source": [
    "Prod обирає ту пару, сума якої задовольняє другому кроку, тобто сума має тільки неоднозначні добутки"
   ]
  },
  {
   "cell_type": "markdown",
   "metadata": {},
   "source": [
    "Sum перевіряє, яка з пар з його сумою має добуток, що пройшов третій крок. Якщо така пара одна, це рішення."
   ]
  },
  {
   "cell_type": "code",
   "execution_count": 30,
   "metadata": {},
   "outputs": [
    {
     "name": "stdout",
     "output_type": "stream",
     "text": [
      "Пари а і б: a=88, b=90, сума=178, добуток=7920\n",
      "Пари а і б: a=80, b=99, сума=179, добуток=7920\n"
     ]
    }
   ],
   "source": [
    "for s in np.unique(possible_sums):\n",
    "        sum_mask = sums == s\n",
    "        pairs_with_sum = nums[sum_mask]\n",
    "        products_with_sum = prod[sum_mask]\n",
    "        \n",
    "        # Якщо ця сума однозначно визначає пару для даного добутку\n",
    "        # і ця сума зустрічається тільки для одного добутку з кількома розкладаннями\n",
    "        sum_count_in_ambiguous = 0\n",
    "        for amb_prod in ambiguous_products:\n",
    "            if amb_prod in products_with_sum:\n",
    "                sum_count_in_ambiguous += 1\n",
    "\n",
    "        sum_defines_pair = len(pairs_with_sum[products_with_sum == products]) == 1\n",
    "        # Перевіряємо, чи ця сума пов'язана тільки з одним неоднозначним добутком\n",
    "        sum_unique_for_ambiguous = sum_count_in_ambiguous == 1\n",
    "        \n",
    "        if sum_defines_pair and sum_unique_for_ambiguous:\n",
    "            a, b = pairs_with_sum[products_with_sum == products][0]\n",
    "            print(f\"Пари а і б: a={a}, b={b}, сума={s}, добуток={products}\")"
   ]
  },
  {
   "cell_type": "markdown",
   "metadata": {},
   "source": []
  }
 ],
 "metadata": {
  "kernelspec": {
   "display_name": "Python 3",
   "language": "python",
   "name": "python3"
  },
  "language_info": {
   "codemirror_mode": {
    "name": "ipython",
    "version": 3
   },
   "file_extension": ".py",
   "mimetype": "text/x-python",
   "name": "python",
   "nbconvert_exporter": "python",
   "pygments_lexer": "ipython3",
   "version": "3.12.5"
  }
 },
 "nbformat": 4,
 "nbformat_minor": 2
}
