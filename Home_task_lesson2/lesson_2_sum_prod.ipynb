{
 "cells": [
  {
   "cell_type": "code",
   "execution_count": 1,
   "metadata": {},
   "outputs": [
    {
     "name": "stdout",
     "output_type": "stream",
     "text": [
      "a=4, b=13, сума=17, добуток=52\n"
     ]
    }
   ],
   "source": [
    "import numpy as np\n",
    "\n",
    "\n",
    "numbers = np.arange(2, 100)\n",
    "\n",
    "pairs_list = []\n",
    "sums_list = []\n",
    "products_list = []\n",
    "\n",
    "for a in numbers:\n",
    "    for b in numbers:\n",
    "        if a <= b:\n",
    "            pairs_list.append((a, b))\n",
    "            sums_list.append(a + b)\n",
    "            products_list.append(a * b)\n",
    "\n",
    "\n",
    "pairs = np.array(pairs_list)\n",
    "sums_arr = np.array(sums_list)\n",
    "products_arr = np.array(products_list)\n",
    "\n",
    "unique_products, counts = np.unique(products_arr, return_counts=True)\n",
    "ambiguous_products = unique_products[counts > 1]\n",
    "\n",
    "\n",
    "# Крок 1: Відкидаємо ті пари, де добуток однознач\n",
    "mask_ambiguous = np.isin(products_arr, ambiguous_products)\n",
    "pairs_ambiguous = pairs[mask_ambiguous]\n",
    "sums_ambiguous = sums_arr[mask_ambiguous]\n",
    "products_ambiguous = products_arr[mask_ambiguous]\n",
    "\n",
    "# Функція перевіряє суму\n",
    "# якщо для всіх пар із початкового простору (pairs, sums_arr, products_arr)\n",
    "# добуток є неоднозначним.\n",
    "def is_good_sum(s):\n",
    "    indices = np.where(sums_arr == s)[0]\n",
    "    return np.all(np.isin(products_arr[indices], ambiguous_products))\n",
    "\n",
    "# Крок 2: Фільтруємо пари з ambiguous\n",
    "good_sum_mask = np.array([is_good_sum(s) for s in sums_ambiguous])\n",
    "pairs_good = pairs_ambiguous[good_sum_mask]\n",
    "sums_good = sums_ambiguous[good_sum_mask]\n",
    "products_good = products_ambiguous[good_sum_mask]\n",
    "\n",
    "\n",
    "final_indices_prod = []\n",
    "for prod in np.unique(products_good):\n",
    "    indices = np.where(products_good == prod)[0]\n",
    "    if len(indices) == 1:\n",
    "        final_indices_prod.extend(indices)\n",
    "\n",
    "pairs_prod = pairs_good[final_indices_prod]\n",
    "sums_prod = sums_good[final_indices_prod]\n",
    "products_prod = products_good[final_indices_prod]\n",
    "\n",
    "final_indices_sum = []\n",
    "for s in np.unique(sums_prod):\n",
    "    indices = np.where(sums_prod == s)[0]\n",
    "    if len(indices) == 1:\n",
    "        final_indices_sum.extend(indices)\n",
    "\n",
    "final_pairs = pairs_prod[final_indices_sum]\n",
    "final_sums = sums_prod[final_indices_sum]\n",
    "final_products = products_prod[final_indices_sum]\n",
    "\n",
    "if final_pairs.shape[0] == 1:\n",
    "    a, b = final_pairs[0]\n",
    "   \n",
    "    print(f\"a={a}, b={b}, сума={a+b}, добуток={a*b}\")\n",
    "else:\n",
    "    print(\"Немає розв'язків, що задовольняють умови діалогу.\")\n"
   ]
  },
  {
   "cell_type": "code",
   "execution_count": null,
   "metadata": {},
   "outputs": [],
   "source": []
  }
 ],
 "metadata": {
  "kernelspec": {
   "display_name": "Python 3",
   "language": "python",
   "name": "python3"
  },
  "language_info": {
   "codemirror_mode": {
    "name": "ipython",
    "version": 3
   },
   "file_extension": ".py",
   "mimetype": "text/x-python",
   "name": "python",
   "nbconvert_exporter": "python",
   "pygments_lexer": "ipython3",
   "version": "3.12.5"
  }
 },
 "nbformat": 4,
 "nbformat_minor": 2
}
